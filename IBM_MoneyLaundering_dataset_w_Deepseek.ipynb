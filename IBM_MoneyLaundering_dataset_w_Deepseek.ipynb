{
  "nbformat": 4,
  "nbformat_minor": 0,
  "metadata": {
    "colab": {
      "provenance": [],
      "authorship_tag": "ABX9TyMB9kklcwrT2qVs3XvzaQns",
      "include_colab_link": true
    },
    "kernelspec": {
      "name": "python3",
      "display_name": "Python 3"
    },
    "language_info": {
      "name": "python"
    }
  },
  "cells": [
    {
      "cell_type": "markdown",
      "metadata": {
        "id": "view-in-github",
        "colab_type": "text"
      },
      "source": [
        "<a href=\"https://colab.research.google.com/github/Ashfook1/Cisco-Networking-Basics-Certification-/blob/main/IBM_MoneyLaundering_dataset_w_Deepseek.ipynb\" target=\"_parent\"><img src=\"https://colab.research.google.com/assets/colab-badge.svg\" alt=\"Open In Colab\"/></a>"
      ]
    },
    {
      "cell_type": "code",
      "execution_count": 1,
      "metadata": {
        "colab": {
          "base_uri": "https://localhost:8080/"
        },
        "id": "HPnMMShLJjV5",
        "outputId": "e4e02b15-de67-4b9b-a949-643cef0803a9"
      },
      "outputs": [
        {
          "output_type": "stream",
          "name": "stdout",
          "text": [
            "Requirement already satisfied: pandas in /usr/local/lib/python3.11/dist-packages (2.2.2)\n",
            "Requirement already satisfied: scikit-learn in /usr/local/lib/python3.11/dist-packages (1.6.1)\n",
            "Requirement already satisfied: xgboost in /usr/local/lib/python3.11/dist-packages (2.1.4)\n",
            "Requirement already satisfied: numpy>=1.23.2 in /usr/local/lib/python3.11/dist-packages (from pandas) (1.26.4)\n",
            "Requirement already satisfied: python-dateutil>=2.8.2 in /usr/local/lib/python3.11/dist-packages (from pandas) (2.8.2)\n",
            "Requirement already satisfied: pytz>=2020.1 in /usr/local/lib/python3.11/dist-packages (from pandas) (2025.1)\n",
            "Requirement already satisfied: tzdata>=2022.7 in /usr/local/lib/python3.11/dist-packages (from pandas) (2025.1)\n",
            "Requirement already satisfied: scipy>=1.6.0 in /usr/local/lib/python3.11/dist-packages (from scikit-learn) (1.14.1)\n",
            "Requirement already satisfied: joblib>=1.2.0 in /usr/local/lib/python3.11/dist-packages (from scikit-learn) (1.4.2)\n",
            "Requirement already satisfied: threadpoolctl>=3.1.0 in /usr/local/lib/python3.11/dist-packages (from scikit-learn) (3.5.0)\n",
            "Requirement already satisfied: nvidia-nccl-cu12 in /usr/local/lib/python3.11/dist-packages (from xgboost) (2.21.5)\n",
            "Requirement already satisfied: six>=1.5 in /usr/local/lib/python3.11/dist-packages (from python-dateutil>=2.8.2->pandas) (1.17.0)\n"
          ]
        }
      ],
      "source": [
        "pip install pandas scikit-learn xgboost\n"
      ]
    },
    {
      "cell_type": "code",
      "source": [
        "import pandas as pd\n",
        "\n",
        "# Replace with your actual file path\n",
        "df = pd.read_csv(\"/LI-Small_Trans.csv\")\n",
        "\n",
        "# Display first few rows\n",
        "print(df.head())\n",
        "\n",
        "# Check dataset info\n",
        "print(df.info())\n",
        "\n",
        "# Check for missing values\n",
        "print(df.isnull().sum())\n"
      ],
      "metadata": {
        "colab": {
          "base_uri": "https://localhost:8080/"
        },
        "id": "PGQ78LObJnOw",
        "outputId": "5bef86cf-20f2-4756-a1bb-edb9591afcda"
      },
      "execution_count": 5,
      "outputs": [
        {
          "output_type": "stream",
          "name": "stdout",
          "text": [
            "          Timestamp  From Bank    Account  To Bank  Account.1  \\\n",
            "0  2022/09/01 00:08         11  8000ECA90       11  8000ECA90   \n",
            "1  2022/09/01 00:21       3402  80021DAD0     3402  80021DAD0   \n",
            "2  2022/09/01 00:00         11  8000ECA90     1120  8006AA910   \n",
            "3  2022/09/01 00:16       3814  8006AD080     3814  8006AD080   \n",
            "4  2022/09/01 00:00         20  8006AD530       20  8006AD530   \n",
            "\n",
            "   Amount Received Receiving Currency  Amount Paid Payment Currency  \\\n",
            "0       3195403.00          US Dollar   3195403.00        US Dollar   \n",
            "1          1858.96          US Dollar      1858.96        US Dollar   \n",
            "2        592571.00          US Dollar    592571.00        US Dollar   \n",
            "3            12.32          US Dollar        12.32        US Dollar   \n",
            "4          2941.56          US Dollar      2941.56        US Dollar   \n",
            "\n",
            "  Payment Format  Is Laundering  \n",
            "0   Reinvestment              0  \n",
            "1   Reinvestment              0  \n",
            "2         Cheque              0  \n",
            "3   Reinvestment              0  \n",
            "4   Reinvestment              0  \n",
            "<class 'pandas.core.frame.DataFrame'>\n",
            "RangeIndex: 6924049 entries, 0 to 6924048\n",
            "Data columns (total 11 columns):\n",
            " #   Column              Dtype  \n",
            "---  ------              -----  \n",
            " 0   Timestamp           object \n",
            " 1   From Bank           int64  \n",
            " 2   Account             object \n",
            " 3   To Bank             int64  \n",
            " 4   Account.1           object \n",
            " 5   Amount Received     float64\n",
            " 6   Receiving Currency  object \n",
            " 7   Amount Paid         float64\n",
            " 8   Payment Currency    object \n",
            " 9   Payment Format      object \n",
            " 10  Is Laundering       int64  \n",
            "dtypes: float64(2), int64(3), object(6)\n",
            "memory usage: 581.1+ MB\n",
            "None\n",
            "Timestamp             0\n",
            "From Bank             0\n",
            "Account               0\n",
            "To Bank               0\n",
            "Account.1             0\n",
            "Amount Received       0\n",
            "Receiving Currency    0\n",
            "Amount Paid           0\n",
            "Payment Currency      0\n",
            "Payment Format        0\n",
            "Is Laundering         0\n",
            "dtype: int64\n"
          ]
        }
      ]
    },
    {
      "cell_type": "code",
      "source": [
        "# Define feature columns (update these based on your dataset)\n",
        "features = [\"Timestamp\", \"From Bank\", \"Account\", \"To Bank\", \"Account\", \"Amount Received\",\"Receiving Currency\", \"Amount Paid\" ,\"Payment Currency\", \"Payment Format\", \"Is Laundering\"]\n",
        "X = df[features]\n",
        "\n",
        "# Define target column (1 = suspicious, 0 = normal)\n",
        "y = df[\"Is Laundering\"]  # Update column name if different\n"
      ],
      "metadata": {
        "id": "dfG0iAsDJnXg"
      },
      "execution_count": 8,
      "outputs": []
    },
    {
      "cell_type": "code",
      "source": [
        "# Check data types of each column\n",
        "print(df.dtypes)\n",
        "\n",
        "# Identify non-numeric columns\n",
        "non_numeric_columns = df.select_dtypes(exclude=['number']).columns\n",
        "print(\"Non-Numeric Columns:\", non_numeric_columns)\n"
      ],
      "metadata": {
        "colab": {
          "base_uri": "https://localhost:8080/"
        },
        "id": "aQS2Gdb2UW-o",
        "outputId": "8060c1e2-974c-4d5d-e94b-0badd69964c9"
      },
      "execution_count": 14,
      "outputs": [
        {
          "output_type": "stream",
          "name": "stdout",
          "text": [
            "Timestamp               int64\n",
            "From Bank               int64\n",
            "Account                object\n",
            "To Bank                 int64\n",
            "Account.1              object\n",
            "Amount Received       float64\n",
            "Receiving Currency     object\n",
            "Amount Paid           float64\n",
            "Payment Currency       object\n",
            "Payment Format         object\n",
            "Is Laundering           int64\n",
            "dtype: object\n",
            "Non-Numeric Columns: Index(['Account', 'Account.1', 'Receiving Currency', 'Payment Currency',\n",
            "       'Payment Format'],\n",
            "      dtype='object')\n"
          ]
        }
      ]
    },
    {
      "cell_type": "code",
      "source": [
        "# Convert date column (update 'date_column_name' with actual column name)\n",
        "df['Timestamp'] = pd.to_datetime(df['Timestamp'])\n",
        "\n",
        "# Convert date to Unix timestamp\n",
        "df['Timestamp'] = df['Timestamp'].astype('int64') // 10**9  # Convert to seconds\n"
      ],
      "metadata": {
        "id": "N639lYQRTTU2"
      },
      "execution_count": 15,
      "outputs": []
    },
    {
      "cell_type": "code",
      "source": [
        "print(y.shape)  # Should return (num_rows,) and NOT (num_rows, 2)\n",
        "print(y.head())  # Check the values inside y\n"
      ],
      "metadata": {
        "colab": {
          "base_uri": "https://localhost:8080/"
        },
        "id": "6N6VjhseVxw-",
        "outputId": "f9eae30d-e627-4942-963c-2a73798cbdfd"
      },
      "execution_count": 21,
      "outputs": [
        {
          "output_type": "stream",
          "name": "stdout",
          "text": [
            "(6924049,)\n",
            "0    0\n",
            "1    0\n",
            "2    0\n",
            "3    0\n",
            "4    0\n",
            "Name: Is Laundering, dtype: int64\n"
          ]
        }
      ]
    },
    {
      "cell_type": "code",
      "source": [
        "print(\"X shape:\", X.shape)  # Should be (6924049, num_features)\n",
        "print(\"y shape:\", y.shape)  # Should be (6924049,)\n"
      ],
      "metadata": {
        "colab": {
          "base_uri": "https://localhost:8080/"
        },
        "id": "ut8k_Ubhf-bj",
        "outputId": "11914c49-fa26-4086-9d86-85d4fac78497"
      },
      "execution_count": 28,
      "outputs": [
        {
          "output_type": "stream",
          "name": "stdout",
          "text": [
            "X shape: (6924049, 11)\n",
            "y shape: (6924049,)\n"
          ]
        }
      ]
    },
    {
      "cell_type": "markdown",
      "source": [],
      "metadata": {
        "id": "ZCIco6tdhUp3"
      }
    },
    {
      "cell_type": "markdown",
      "source": [],
      "metadata": {
        "id": "SoBnzxPrhUpJ"
      }
    },
    {
      "cell_type": "code",
      "source": [
        "y = df[\"Is Laundering\"].values.ravel()  # Flattens into 1D\n",
        "\n"
      ],
      "metadata": {
        "id": "2efjMTLZVhJ1"
      },
      "execution_count": 25,
      "outputs": []
    },
    {
      "cell_type": "code",
      "source": [],
      "metadata": {
        "id": "-i3iyg5qiCTv"
      },
      "execution_count": null,
      "outputs": []
    },
    {
      "cell_type": "code",
      "source": [
        "import pandas as pd\n",
        "from sklearn.model_selection import train_test_split\n",
        "from sklearn.ensemble import RandomForestClassifier\n",
        "from sklearn.metrics import accuracy_score\n",
        "from sklearn.preprocessing import LabelEncoder\n",
        "\n",
        "# Replace with your actual file path\n",
        "df = pd.read_csv(\"/LI-Small_Trans.csv\")\n",
        "\n",
        "# ... (rest of your data loading and preprocessing code)\n",
        "\n",
        "# Define feature columns (update these based on your dataset)\n",
        "features = [\"Timestamp\", \"From Bank\", \"Account\", \"To Bank\", \"Account\", \"Amount Received\",\n",
        "            \"Receiving Currency\", \"Amount Paid\", \"Payment Currency\", \"Payment Format\", \"Is Laundering\"]\n",
        "X = df[features]\n",
        "\n",
        "# Define target column (1 = suspicious, 0 = normal)\n",
        "y = df[\"Is Laundering\"]  # Update column name if different\n",
        "\n",
        "# ... (rest of your code for date conversion)\n",
        "\n",
        "# Create a LabelEncoder object\n",
        "label_encoder = LabelEncoder()\n",
        "\n",
        "# Identify non-numeric columns\n",
        "for column in X.select_dtypes(include=['object']).columns:\n",
        "    # Fit and transform the data in the column\n",
        "    X[column] = label_encoder.fit_transform(X[column])\n",
        "\n",
        "# Split data into training and testing sets (80% train, 20% test)\n",
        "X_train, X_test, y_train, y_test = train_test_split(X, y, test_size=0.2, random_state=42)\n",
        "\n",
        "# Initialize and train the model\n",
        "model = RandomForestClassifier(n_estimators=100, random_state=42)\n",
        "model.fit(X_train, y_train)\n",
        "\n",
        "# Test the model\n",
        "y_pred = model.predict(X_test)\n",
        "print(\"Accuracy:\", accuracy_score(y_test, y_pred))\n"
      ],
      "metadata": {
        "colab": {
          "base_uri": "https://localhost:8080/",
          "height": 356
        },
        "id": "IMpsDMGrJneg",
        "outputId": "5e19b7ea-42ef-47db-f5a8-1aea86293ddc"
      },
      "execution_count": 29,
      "outputs": [
        {
          "output_type": "error",
          "ename": "ValueError",
          "evalue": "y should be a 1d array, got an array of shape (6924049, 2) instead.",
          "traceback": [
            "\u001b[0;31m---------------------------------------------------------------------------\u001b[0m",
            "\u001b[0;31mValueError\u001b[0m                                Traceback (most recent call last)",
            "\u001b[0;32m<ipython-input-29-ebbe64446885>\u001b[0m in \u001b[0;36m<cell line: 0>\u001b[0;34m()\u001b[0m\n\u001b[1;32m     26\u001b[0m \u001b[0;32mfor\u001b[0m \u001b[0mcolumn\u001b[0m \u001b[0;32min\u001b[0m \u001b[0mX\u001b[0m\u001b[0;34m.\u001b[0m\u001b[0mselect_dtypes\u001b[0m\u001b[0;34m(\u001b[0m\u001b[0minclude\u001b[0m\u001b[0;34m=\u001b[0m\u001b[0;34m[\u001b[0m\u001b[0;34m'object'\u001b[0m\u001b[0;34m]\u001b[0m\u001b[0;34m)\u001b[0m\u001b[0;34m.\u001b[0m\u001b[0mcolumns\u001b[0m\u001b[0;34m:\u001b[0m\u001b[0;34m\u001b[0m\u001b[0;34m\u001b[0m\u001b[0m\n\u001b[1;32m     27\u001b[0m     \u001b[0;31m# Fit and transform the data in the column\u001b[0m\u001b[0;34m\u001b[0m\u001b[0;34m\u001b[0m\u001b[0m\n\u001b[0;32m---> 28\u001b[0;31m     \u001b[0mX\u001b[0m\u001b[0;34m[\u001b[0m\u001b[0mcolumn\u001b[0m\u001b[0;34m]\u001b[0m \u001b[0;34m=\u001b[0m \u001b[0mlabel_encoder\u001b[0m\u001b[0;34m.\u001b[0m\u001b[0mfit_transform\u001b[0m\u001b[0;34m(\u001b[0m\u001b[0mX\u001b[0m\u001b[0;34m[\u001b[0m\u001b[0mcolumn\u001b[0m\u001b[0;34m]\u001b[0m\u001b[0;34m)\u001b[0m\u001b[0;34m\u001b[0m\u001b[0;34m\u001b[0m\u001b[0m\n\u001b[0m\u001b[1;32m     29\u001b[0m \u001b[0;34m\u001b[0m\u001b[0m\n\u001b[1;32m     30\u001b[0m \u001b[0;31m# Split data into training and testing sets (80% train, 20% test)\u001b[0m\u001b[0;34m\u001b[0m\u001b[0;34m\u001b[0m\u001b[0m\n",
            "\u001b[0;32m/usr/local/lib/python3.11/dist-packages/sklearn/preprocessing/_label.py\u001b[0m in \u001b[0;36mfit_transform\u001b[0;34m(self, y)\u001b[0m\n\u001b[1;32m    108\u001b[0m             \u001b[0mEncoded\u001b[0m \u001b[0mlabels\u001b[0m\u001b[0;34m.\u001b[0m\u001b[0;34m\u001b[0m\u001b[0;34m\u001b[0m\u001b[0m\n\u001b[1;32m    109\u001b[0m         \"\"\"\n\u001b[0;32m--> 110\u001b[0;31m         \u001b[0my\u001b[0m \u001b[0;34m=\u001b[0m \u001b[0mcolumn_or_1d\u001b[0m\u001b[0;34m(\u001b[0m\u001b[0my\u001b[0m\u001b[0;34m,\u001b[0m \u001b[0mwarn\u001b[0m\u001b[0;34m=\u001b[0m\u001b[0;32mTrue\u001b[0m\u001b[0;34m)\u001b[0m\u001b[0;34m\u001b[0m\u001b[0;34m\u001b[0m\u001b[0m\n\u001b[0m\u001b[1;32m    111\u001b[0m         \u001b[0mself\u001b[0m\u001b[0;34m.\u001b[0m\u001b[0mclasses_\u001b[0m\u001b[0;34m,\u001b[0m \u001b[0my\u001b[0m \u001b[0;34m=\u001b[0m \u001b[0m_unique\u001b[0m\u001b[0;34m(\u001b[0m\u001b[0my\u001b[0m\u001b[0;34m,\u001b[0m \u001b[0mreturn_inverse\u001b[0m\u001b[0;34m=\u001b[0m\u001b[0;32mTrue\u001b[0m\u001b[0;34m)\u001b[0m\u001b[0;34m\u001b[0m\u001b[0;34m\u001b[0m\u001b[0m\n\u001b[1;32m    112\u001b[0m         \u001b[0;32mreturn\u001b[0m \u001b[0my\u001b[0m\u001b[0;34m\u001b[0m\u001b[0;34m\u001b[0m\u001b[0m\n",
            "\u001b[0;32m/usr/local/lib/python3.11/dist-packages/sklearn/utils/validation.py\u001b[0m in \u001b[0;36mcolumn_or_1d\u001b[0;34m(y, dtype, warn, device)\u001b[0m\n\u001b[1;32m   1483\u001b[0m         )\n\u001b[1;32m   1484\u001b[0m \u001b[0;34m\u001b[0m\u001b[0m\n\u001b[0;32m-> 1485\u001b[0;31m     raise ValueError(\n\u001b[0m\u001b[1;32m   1486\u001b[0m         \u001b[0;34m\"y should be a 1d array, got an array of shape {} instead.\"\u001b[0m\u001b[0;34m.\u001b[0m\u001b[0mformat\u001b[0m\u001b[0;34m(\u001b[0m\u001b[0mshape\u001b[0m\u001b[0;34m)\u001b[0m\u001b[0;34m\u001b[0m\u001b[0;34m\u001b[0m\u001b[0m\n\u001b[1;32m   1487\u001b[0m     )\n",
            "\u001b[0;31mValueError\u001b[0m: y should be a 1d array, got an array of shape (6924049, 2) instead."
          ]
        }
      ]
    },
    {
      "cell_type": "code",
      "source": [],
      "metadata": {
        "id": "pCOhP5qKVUgp"
      },
      "execution_count": null,
      "outputs": []
    }
  ]
}